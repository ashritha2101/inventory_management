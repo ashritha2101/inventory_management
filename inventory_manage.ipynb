{
 "cells": [
  {
   "cell_type": "code",
   "execution_count": 16,
   "metadata": {},
   "outputs": [],
   "source": [
    "import json\n",
    "fd=open(\"listforinventory.json\",\"w\")"
   ]
  },
  {
   "cell_type": "code",
   "execution_count": 17,
   "metadata": {},
   "outputs": [],
   "source": [
    "inventory = {\n",
    "    1101 : {\"item\": \"dairymilk(s)\" , \"price\" : 22 , \"quantity\" : 10 , \"category\": \"chocolate\", \"rating\" : 7},\n",
    "    1102 : {\"item\": \"dairymilk(m)\" , \"price\" : 42 , \"quantity\" : 100 , \"category\": \"chocolate\", \"rating\" : 8},\n",
    "    1103 : {\"item\": \"dairymilk(l)\" , \"price\" : 120 , \"quantity\" : 50 , \"category\": \"chocolate\", \"rating\" : 8},\n",
    "    1104 : {\"item\": \"apple\" , \"price\" : 20 , \"quantity\" : 200 , \"category\": \"fruit\", \"rating\" : 6},\n",
    "    1105 : {\"item\": \"orange\" , \"price\" : 10 , \"quantity\" : 75 , \"category\":\"fruit\" , \"rating\" : 7},\n",
    "    1106 : {\"item\": \"grapes\" , \"price\" : 20 , \"quantity\" : 50 , \"category\": \"fruit\" , \"rating\" : 8},\n",
    "    1107 : {\"item\": \"radish\" , \"price\" : 5 , \"quantity\" : 500 , \"category\": \"vegetable\" , \"rating\" : 6},\n",
    "    1108 : {\"item\": \"carrot\" , \"price\" : 10 , \"quantity\" : 50 , \"category\": \"vegetable\", \"rating\" : 6},\n",
    "    1109 : {\"item\": \"beetroot\" , \"price\" : 10 , \"quantity\" : 100 , \"category\": \"vegetable\" , \"rating\" : 9},\n",
    "    1200 : {\"item\": \"onion\" , \"price\" : 5 , \"quantity\" : 30 , \"category\": \"vegetable\" , \"rating\" : 9},\n",
    "    1201 : {\"item\": \"brinjal\" , \"price\" : 6 , \"quantity\" : 100 , \"category\": \"vegetable\" , \"rating\" : 9},\n",
    "    1202 : {\"item\": \"tomato\" , \"price\" : 5 , \"quantity\" : 10 , \"category\": \"vegetable\", \"rating\" : 8},\n",
    "    1203 : {\"item\": \"potato\" , \"price\" : 10 , \"quantity\" : 100 , \"category\": \"vegetable\", \"rating\" : 8},\n",
    "    1204 : {\"item\": \"5star(s)\" , \"price\" : 10 , \"quantity\" : 100 , \"category\": \"chocolate\", \"rating\" : 8},\n",
    "    1205 : {\"item\": \"5star(m)\" , \"price\" : 20 , \"quantity\" : 100 , \"category\": \"chocolate\", \"rating\" : 8},\n",
    "    1206 : {\"item\": \"5star(l)\" , \"price\" : 40 , \"quantity\" : 50 , \"category\": \"chocolate\", \"rating\" : 8},\n",
    "    1207 : {\"item\": \"kitkat(s)\" , \"price\" : 10 , \"quantity\" : 300 , \"category\": \"chocolate\", \"rating\" : 7},\n",
    "    1208 : {\"item\": \"kitkat(m)\" , \"price\" : 40 , \"quantity\" : 400 , \"category\": \"chocolate\", \"rating\" : 9},\n",
    "    1209 : {\"item\": \"sneakers\" , \"price\" : 10 , \"quantity\" : 500 , \"category\": \"chocolate\", \"rating\" : 6},\n",
    "    1300 : {\"item\": \"milkybar(s)\" , \"price\" : 1 , \"quantity\" : 1000 , \"category\": \"chocolate\", \"rating\" : 7},\n",
    "    1301 : {\"item\": \"milkybar(l)\" , \"price\" : 10 , \"quantity\" : 1000 , \"category\": \"chocolate\", \"rating\" : 8},\n",
    "    1302 : {\"item\": \"chocobar\" , \"price\" : 10 , \"quantity\" : 200 , \"category\": \"chocolate\", \"rating\" : 7},\n",
    "    1303 : {\"item\": \"pen\" , \"price\" : 10 , \"quantity\" : 100 , \"category\": \"stationary\", \"rating\" : 9},\n",
    "    1304 : {\"item\": \"apsarapencil\" , \"price\" : 5 , \"quantity\" : 200 , \"category\": \"stationary\", \"rating\" : 9},\n",
    "    1305 : {\"item\": \"apsaraeraser\" , \"price\" : 5 , \"quantity\" : 80 , \"category\": \"stationary\", \"rating\" : 8},\n",
    "    1306 : {\"item\": \"apsarascale(s)\" , \"price\" : 10 , \"quantity\" : 80 , \"category\": \"stationary\", \"rating\" : 7},\n",
    "    1307 : {\"item\": \"pencil-box\" , \"price\" : 100 , \"quantity\" : 90 , \"category\": \"stationary\", \"rating\" : 9},\n",
    "    1308 : {\"item\": \"apsarascale(l)\" , \"price\" : 25 , \"quantity\" : 40 , \"category\": \"stationary\", \"rating\" : 8},\n",
    "    1309 : {\"item\": \"fevicol(m)\" , \"price\" : 20 , \"quantity\" : 100 , \"category\": \"stationary\", \"rating\" : 9},\n",
    "    1400 : {\"item\": \"fevicol(l)\" , \"price\" : 50 , \"quantity\" : 300 , \"category\": \"stationary\", \"rating\" : 9}\n",
    "    \n",
    "}\n",
    "js = json.dumps(inventory)"
   ]
  },
  {
   "cell_type": "code",
   "execution_count": 18,
   "metadata": {},
   "outputs": [
    {
     "data": {
      "text/plain": [
       "'{\"1101\": {\"item\": \"dairymilk(s)\", \"price\": 22, \"quantity\": 10, \"category\": \"chocolate\", \"rating\": 7}, \"1102\": {\"item\": \"dairymilk(m)\", \"price\": 42, \"quantity\": 100, \"category\": \"chocolate\", \"rating\": 8}, \"1103\": {\"item\": \"dairymilk(l)\", \"price\": 120, \"quantity\": 50, \"category\": \"chocolate\", \"rating\": 8}, \"1104\": {\"item\": \"apple\", \"price\": 20, \"quantity\": 200, \"category\": \"fruit\", \"rating\": 6}, \"1105\": {\"item\": \"orange\", \"price\": 10, \"quantity\": 75, \"category\": \"fruit\", \"rating\": 7}, \"1106\": {\"item\": \"grapes\", \"price\": 20, \"quantity\": 50, \"category\": \"fruit\", \"rating\": 8}, \"1107\": {\"item\": \"radish\", \"price\": 5, \"quantity\": 500, \"category\": \"vegetable\", \"rating\": 6}, \"1108\": {\"item\": \"carrot\", \"price\": 10, \"quantity\": 50, \"category\": \"vegetable\", \"rating\": 6}, \"1109\": {\"item\": \"beetroot\", \"price\": 10, \"quantity\": 100, \"category\": \"vegetable\", \"rating\": 9}, \"1200\": {\"item\": \"onion\", \"price\": 5, \"quantity\": 30, \"category\": \"vegetable\", \"rating\": 9}, \"1201\": {\"item\": \"brinjal\", \"price\": 6, \"quantity\": 100, \"category\": \"vegetable\", \"rating\": 9}, \"1202\": {\"item\": \"tomato\", \"price\": 5, \"quantity\": 10, \"category\": \"vegetable\", \"rating\": 8}, \"1203\": {\"item\": \"potato\", \"price\": 10, \"quantity\": 100, \"category\": \"vegetable\", \"rating\": 8}, \"1204\": {\"item\": \"5star(s)\", \"price\": 10, \"quantity\": 100, \"category\": \"chocolate\", \"rating\": 8}, \"1205\": {\"item\": \"5star(m)\", \"price\": 20, \"quantity\": 100, \"category\": \"chocolate\", \"rating\": 8}, \"1206\": {\"item\": \"5star(l)\", \"price\": 40, \"quantity\": 50, \"category\": \"chocolate\", \"rating\": 8}, \"1207\": {\"item\": \"kitkat(s)\", \"price\": 10, \"quantity\": 300, \"category\": \"chocolate\", \"rating\": 7}, \"1208\": {\"item\": \"kitkat(m)\", \"price\": 40, \"quantity\": 400, \"category\": \"chocolate\", \"rating\": 9}, \"1209\": {\"item\": \"sneakers\", \"price\": 10, \"quantity\": 500, \"category\": \"chocolate\", \"rating\": 6}, \"1300\": {\"item\": \"milkybar(s)\", \"price\": 1, \"quantity\": 1000, \"category\": \"chocolate\", \"rating\": 7}, \"1301\": {\"item\": \"milkybar(l)\", \"price\": 10, \"quantity\": 1000, \"category\": \"chocolate\", \"rating\": 8}, \"1302\": {\"item\": \"chocobar\", \"price\": 10, \"quantity\": 200, \"category\": \"chocolate\", \"rating\": 7}, \"1303\": {\"item\": \"pen\", \"price\": 10, \"quantity\": 100, \"category\": \"stationary\", \"rating\": 9}, \"1304\": {\"item\": \"apsarapencil\", \"price\": 5, \"quantity\": 200, \"category\": \"stationary\", \"rating\": 9}, \"1305\": {\"item\": \"apsaraeraser\", \"price\": 5, \"quantity\": 80, \"category\": \"stationary\", \"rating\": 8}, \"1306\": {\"item\": \"apsarascale(s)\", \"price\": 10, \"quantity\": 80, \"category\": \"stationary\", \"rating\": 7}, \"1307\": {\"item\": \"pencil-box\", \"price\": 100, \"quantity\": 90, \"category\": \"stationary\", \"rating\": 9}, \"1308\": {\"item\": \"apsarascale(l)\", \"price\": 25, \"quantity\": 40, \"category\": \"stationary\", \"rating\": 8}, \"1309\": {\"item\": \"fevicol(m)\", \"price\": 20, \"quantity\": 100, \"category\": \"stationary\", \"rating\": 9}, \"1400\": {\"item\": \"fevicol(l)\", \"price\": 50, \"quantity\": 300, \"category\": \"stationary\", \"rating\": 9}}'"
      ]
     },
     "execution_count": 18,
     "metadata": {},
     "output_type": "execute_result"
    }
   ],
   "source": [
    "js"
   ]
  },
  {
   "cell_type": "code",
   "execution_count": 19,
   "metadata": {},
   "outputs": [
    {
     "data": {
      "text/plain": [
       "2943"
      ]
     },
     "execution_count": 19,
     "metadata": {},
     "output_type": "execute_result"
    }
   ],
   "source": [
    "fd.write(js)"
   ]
  },
  {
   "cell_type": "code",
   "execution_count": 20,
   "metadata": {},
   "outputs": [],
   "source": [
    "fd.close()\n",
    "\n",
    "\n"
   ]
  },
  {
   "cell_type": "code",
   "execution_count": 24,
   "metadata": {},
   "outputs": [
    {
     "name": "stdout",
     "output_type": "stream",
     "text": [
      "enter the number of quantity you want to buy5\n",
      "enter the id1205\n",
      "enter the quantity of product2\n",
      "enter the id1206\n",
      "enter the quantity of product3\n",
      "enter the id1108\n",
      "enter the quantity of product4\n",
      "enter the id1109\n",
      "enter the quantity of product5\n",
      "enter the id1200\n",
      "enter the quantity of product8\n"
     ]
    },
    {
     "data": {
      "text/plain": [
       "24"
      ]
     },
     "execution_count": 24,
     "metadata": {},
     "output_type": "execute_result"
    }
   ],
   "source": [
    "fi = open(\"order.txt\",\"w\")\n",
    "value =int(input(\"enter the number of quantity you want to buy\"))\n",
    "fd = open(\"listforinventory.json\",\"r\")\n",
    "read = fd.read()\n",
    "receipt = json.loads(read)\n",
    "excli = \"\\nyou just bought\\t\"\n",
    "\n",
    "total_bill=0\n",
    "for i in range(value):\n",
    "    pd_id = str(input(\"enter the id\"))\n",
    "    quan = int(input(\"enter the quantity of product\"))\n",
    "    if quan<receipt[pd_id][\"quantity\"]:\n",
    "        receipt[pd_id][\"quantity\"]=receipt[pd_id][\"quantity\"]-quan\n",
    "        total_bill+=quan*receipt[pd_id][\"price\"]\n",
    "        \n",
    "    fi.write(\"you just bought {} of {} with product name {} and category {}\\n \".format( str(quan) , str(pd_id) , str(receipt[pd_id][\"item\"]) , str(receipt[pd_id][\"category\"]) ))\n",
    "    \n",
    "fi.write('\\n your total bill is {}'.format(str(total_bill)))\n",
    "    \n",
    "    \n"
   ]
  },
  {
   "cell_type": "code",
   "execution_count": null,
   "metadata": {},
   "outputs": [],
   "source": []
  },
  {
   "cell_type": "code",
   "execution_count": null,
   "metadata": {},
   "outputs": [],
   "source": []
  }
 ],
 "metadata": {
  "kernelspec": {
   "display_name": "Python 3",
   "language": "python",
   "name": "python3"
  },
  "language_info": {
   "codemirror_mode": {
    "name": "ipython",
    "version": 3
   },
   "file_extension": ".py",
   "mimetype": "text/x-python",
   "name": "python",
   "nbconvert_exporter": "python",
   "pygments_lexer": "ipython3",
   "version": "3.8.5"
  }
 },
 "nbformat": 4,
 "nbformat_minor": 5
}
